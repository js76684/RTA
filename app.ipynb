{
 "cells": [
  {
   "cell_type": "code",
   "execution_count": null,
   "id": "d6067555",
   "metadata": {},
   "outputs": [],
   "source": [
    "from flask import Flask\n",
    "from flask import request, jsonify\n",
    "import _pickle as cPickle\n",
    "%run perceptron.ipynb \n",
    "\n",
    "\n",
    "app = Flask(__name__)\n",
    "\n",
    "@app.route('/hello', methods=['GET'])\n",
    "def hello():\n",
    "    name = request.args.get('name', \"\")\n",
    "    \n",
    "    return f\"<h1 style='color:red'>hello {name} </h1>\"\n",
    "\n",
    "@app.route('/prediction', methods=['GET'])\n",
    "def fun_pre():\n",
    "    sepal_length = float(request.args.get('sl'))\n",
    "    petal_length = float(request.args.get('pl'))\n",
    "    ft = [sepal_length, petal_length]\n",
    "    print(ft)\n",
    "    \n",
    "    with open(r'data.pickle', 'rb') as input_1:\n",
    "        a = cPickle.load(input_1)\n",
    "    print(a)\n",
    "    \n",
    "    cl = int(model.predict(ft))\n",
    "    \n",
    "    return jsonify(ft = ft, cl = cl)\n",
    "\n",
    "\n",
    "if __name__ == \"__main__\":\n",
    "    app.run(host= '0.0.0.0')"
   ]
  }
 ],
 "metadata": {
  "kernelspec": {
   "display_name": "Python 3 (ipykernel)",
   "language": "python",
   "name": "python3"
  },
  "language_info": {
   "codemirror_mode": {
    "name": "ipython",
    "version": 3
   },
   "file_extension": ".py",
   "mimetype": "text/x-python",
   "name": "python",
   "nbconvert_exporter": "python",
   "pygments_lexer": "ipython3",
   "version": "3.9.7"
  }
 },
 "nbformat": 4,
 "nbformat_minor": 5
}
