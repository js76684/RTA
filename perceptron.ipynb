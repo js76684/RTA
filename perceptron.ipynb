{
 "cells": [
  {
   "cell_type": "code",
   "execution_count": 14,
   "id": "fadfbd80",
   "metadata": {},
   "outputs": [],
   "source": [
    "import numpy as np\n",
    "import pandas as pd\n",
    "from sklearn import datasets\n",
    "import _pickle as cPickle\n",
    "\n",
    "data = datasets.load_iris()\n",
    "\n",
    "#data =  pd.read_csv('https://archive.ics.uci.edu/ml/machine-learning-databases/iris/iris.data', sep=\",\")\n",
    "#print(data)\n",
    "\n",
    "\n",
    "df = pd.DataFrame(data = np.c_[data[\"data\"], data[\"target\"]], columns = data[\"feature_names\"]+[\"target\"])\n",
    "df.drop(df.index[df[\"target\"] == 2], inplace = True)\n",
    "X = df.loc[:, [\"petal length (cm)\", \"sepal length (cm)\"]].values\n",
    "Y = df.loc[:, [\"target\"]].values\n",
    "\n",
    "class Perceptron:\n",
    "    def __init__(self, eta=0.01, n_iter=10):\n",
    "        self.eta = eta\n",
    "        self.n_iter = n_iter\n",
    "    \n",
    "    def fit(self, X, y):\n",
    "        self.w_ = np.zeros(1 + X.shape[1])\n",
    "        self.errors_ = []\n",
    "        for _ in range(self.n_iter):\n",
    "            errors = 0\n",
    "            for xi, target in zip(X,y):\n",
    "                update=self.eta*(target-self.predict(xi))\n",
    "                self.w_[1:] += update *xi\n",
    "                self.w_[0] += update\n",
    "                errors += int(update != 0.0)\n",
    "            self.errors_.append(errors)\n",
    "        return self\n",
    "    \n",
    "    \n",
    "    def net_input(self, X):\n",
    "        return np.dot(X, self.w_[1:]) + self.w_[0]\n",
    "    \n",
    "    def predict(self, X):\n",
    "        return np.where(self.net_input(X) >= 0, 1, -1)\n",
    "\n",
    "model = Perceptron()\n",
    "model.fit(X,Y)\n",
    "\n",
    "with open(r\"data.pickle\", \"wb\") as model1:    \n",
    "    cPickle.dump(model, model1)\n",
    "    \n",
    "###with open(r'iris.pickle', 'rb') as input_1:\n",
    "    ###a = cPickle.load(input_1)\n",
    "    \n",
    "###print(a)"
   ]
  },
  {
   "cell_type": "code",
   "execution_count": null,
   "id": "372f9e55",
   "metadata": {},
   "outputs": [],
   "source": []
  },
  {
   "cell_type": "code",
   "execution_count": null,
   "id": "be5b7dcd",
   "metadata": {},
   "outputs": [],
   "source": []
  }
 ],
 "metadata": {
  "kernelspec": {
   "display_name": "Python 3 (ipykernel)",
   "language": "python",
   "name": "python3"
  },
  "language_info": {
   "codemirror_mode": {
    "name": "ipython",
    "version": 3
   },
   "file_extension": ".py",
   "mimetype": "text/x-python",
   "name": "python",
   "nbconvert_exporter": "python",
   "pygments_lexer": "ipython3",
   "version": "3.9.7"
  }
 },
 "nbformat": 4,
 "nbformat_minor": 5
}
